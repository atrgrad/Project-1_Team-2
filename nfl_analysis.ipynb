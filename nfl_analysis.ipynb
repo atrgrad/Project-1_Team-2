{
 "cells": [
  {
   "cell_type": "code",
   "execution_count": 50,
   "id": "ccda9000",
   "metadata": {},
   "outputs": [],
   "source": [
    "# Load tools needed for project 1\n",
    "\n",
    "import pandas as pd\n",
    "import numpy as np\n",
    "import seaborn as sns\n",
    "import plotly.express as px\n",
    "import panel as pn\n",
    "import os\n",
    "from pathlib import Path\n",
    "from dotenv import load_dotenv\n",
    "%matplotlib inline  "
   ]
  },
  {
   "cell_type": "code",
   "execution_count": 6,
   "id": "9ac3e315",
   "metadata": {},
   "outputs": [],
   "source": [
    "pn.extension('plotly')"
   ]
  },
  {
   "cell_type": "code",
   "execution_count": 7,
   "id": "70a13c7c",
   "metadata": {},
   "outputs": [],
   "source": [
    "import hvplot.pandas"
   ]
  },
  {
   "cell_type": "code",
   "execution_count": 35,
   "id": "ff8df036",
   "metadata": {},
   "outputs": [],
   "source": [
    "load_dotenv()\n",
    "mapbox = os.getenv(\"mapbox_api_key\")\n",
    "px.set_mapbox_access_token(mapbox)"
   ]
  },
  {
   "cell_type": "code",
   "execution_count": 36,
   "id": "1f06bfaf",
   "metadata": {},
   "outputs": [],
   "source": [
    "# Set Variables"
   ]
  },
  {
   "cell_type": "code",
   "execution_count": 37,
   "id": "1bafff54",
   "metadata": {},
   "outputs": [],
   "source": [
    "# Load Data\n"
   ]
  },
  {
   "cell_type": "code",
   "execution_count": 49,
   "id": "9e3892cc",
   "metadata": {},
   "outputs": [
    {
     "data": {
      "text/html": [
       "<div>\n",
       "<style scoped>\n",
       "    .dataframe tbody tr th:only-of-type {\n",
       "        vertical-align: middle;\n",
       "    }\n",
       "\n",
       "    .dataframe tbody tr th {\n",
       "        vertical-align: top;\n",
       "    }\n",
       "\n",
       "    .dataframe thead th {\n",
       "        text-align: right;\n",
       "    }\n",
       "</style>\n",
       "<table border=\"1\" class=\"dataframe\">\n",
       "  <thead>\n",
       "    <tr style=\"text-align: right;\">\n",
       "      <th></th>\n",
       "      <th>Team</th>\n",
       "      <th>Super Bowl Odds</th>\n",
       "      <th>W/l Over-Under</th>\n",
       "      <th>Record</th>\n",
       "      <th>Year</th>\n",
       "    </tr>\n",
       "  </thead>\n",
       "  <tbody>\n",
       "    <tr>\n",
       "      <th>0</th>\n",
       "      <td>Arizona Cardinals</td>\n",
       "      <td>12000</td>\n",
       "      <td>5.5</td>\n",
       "      <td>7-9 (over)</td>\n",
       "      <td>1996</td>\n",
       "    </tr>\n",
       "    <tr>\n",
       "      <th>1</th>\n",
       "      <td>Atlanta Falcons</td>\n",
       "      <td>4000</td>\n",
       "      <td>8.0</td>\n",
       "      <td>3-13 (under)</td>\n",
       "      <td>1996</td>\n",
       "    </tr>\n",
       "    <tr>\n",
       "      <th>2</th>\n",
       "      <td>Baltimore Ravens</td>\n",
       "      <td>3000</td>\n",
       "      <td>7.5</td>\n",
       "      <td>4-12 (under)</td>\n",
       "      <td>1996</td>\n",
       "    </tr>\n",
       "    <tr>\n",
       "      <th>3</th>\n",
       "      <td>Buffalo Bills</td>\n",
       "      <td>1500</td>\n",
       "      <td>8.5</td>\n",
       "      <td>10-6 (over)</td>\n",
       "      <td>1996</td>\n",
       "    </tr>\n",
       "    <tr>\n",
       "      <th>4</th>\n",
       "      <td>Carolina Panthers</td>\n",
       "      <td>8000</td>\n",
       "      <td>5.5</td>\n",
       "      <td>12-4 (over)</td>\n",
       "      <td>1996</td>\n",
       "    </tr>\n",
       "    <tr>\n",
       "      <th>...</th>\n",
       "      <td>...</td>\n",
       "      <td>...</td>\n",
       "      <td>...</td>\n",
       "      <td>...</td>\n",
       "      <td>...</td>\n",
       "    </tr>\n",
       "    <tr>\n",
       "      <th>818</th>\n",
       "      <td>San Francisco 49ers</td>\n",
       "      <td>1400</td>\n",
       "      <td>10.5</td>\n",
       "      <td>10-7</td>\n",
       "      <td>2021</td>\n",
       "    </tr>\n",
       "    <tr>\n",
       "      <th>819</th>\n",
       "      <td>Seattle Seahawks</td>\n",
       "      <td>2500</td>\n",
       "      <td>9.5</td>\n",
       "      <td>7-10</td>\n",
       "      <td>2021</td>\n",
       "    </tr>\n",
       "    <tr>\n",
       "      <th>820</th>\n",
       "      <td>Tampa Bay Buccaneers</td>\n",
       "      <td>700</td>\n",
       "      <td>12.0</td>\n",
       "      <td>13-4</td>\n",
       "      <td>2021</td>\n",
       "    </tr>\n",
       "    <tr>\n",
       "      <th>821</th>\n",
       "      <td>Tennessee Titans</td>\n",
       "      <td>2000</td>\n",
       "      <td>9.5</td>\n",
       "      <td>12-5</td>\n",
       "      <td>2021</td>\n",
       "    </tr>\n",
       "    <tr>\n",
       "      <th>822</th>\n",
       "      <td>Washington Football Team</td>\n",
       "      <td>4000</td>\n",
       "      <td>8.5</td>\n",
       "      <td>7-10</td>\n",
       "      <td>2021</td>\n",
       "    </tr>\n",
       "  </tbody>\n",
       "</table>\n",
       "<p>823 rows × 5 columns</p>\n",
       "</div>"
      ],
      "text/plain": [
       "                         Team  Super Bowl Odds  W/l Over-Under        Record  \\\n",
       "0           Arizona Cardinals            12000             5.5    7-9 (over)   \n",
       "1             Atlanta Falcons             4000             8.0  3-13 (under)   \n",
       "2            Baltimore Ravens             3000             7.5  4-12 (under)   \n",
       "3               Buffalo Bills             1500             8.5   10-6 (over)   \n",
       "4           Carolina Panthers             8000             5.5   12-4 (over)   \n",
       "..                        ...              ...             ...           ...   \n",
       "818       San Francisco 49ers             1400            10.5          10-7   \n",
       "819          Seattle Seahawks             2500             9.5          7-10   \n",
       "820      Tampa Bay Buccaneers              700            12.0          13-4   \n",
       "821          Tennessee Titans             2000             9.5          12-5   \n",
       "822  Washington Football Team             4000             8.5          7-10   \n",
       "\n",
       "     Year  \n",
       "0    1996  \n",
       "1    1996  \n",
       "2    1996  \n",
       "3    1996  \n",
       "4    1996  \n",
       "..    ...  \n",
       "818  2021  \n",
       "819  2021  \n",
       "820  2021  \n",
       "821  2021  \n",
       "822  2021  \n",
       "\n",
       "[823 rows x 5 columns]"
      ]
     },
     "execution_count": 49,
     "metadata": {},
     "output_type": "execute_result"
    }
   ],
   "source": [
    "# Import Data\n",
    "\n",
    "nfl_data = pd.DataFrame([])\n",
    "years_start = 1996\n",
    "years_end = 2022\n",
    "for year in range(years_start,years_end):\n",
    "        url = f'https://www.pro-football-reference.com/years/{year}/preseason_odds.htm'\n",
    "        df = pd.read_html(url)[0]\n",
    "        df['year'] = year\n",
    "        nfl_data = nfl_data.append(df, ignore_index=True, sort=False)\n",
    "        \n",
    "nfl_data.columns = ['Team', 'Super Bowl Odds', 'W/l Over-Under', 'Record', 'Year']\n",
    "\n",
    "nfl_data\n",
    "\n",
    "# Strategy 1 - $100 on favorite\n",
    "    \n",
    "# Strategy 2 - $100 on Top 3\n",
    "# Strategy 3 - $100 on Top 5"
   ]
  },
  {
   "cell_type": "code",
   "execution_count": null,
   "id": "b3936ba2",
   "metadata": {},
   "outputs": [],
   "source": [
    "# Charting - Individual Bar Graph Strat 1, 2, & 3\n",
    "\n",
    "# Charting - Combined Bar Graph Total Wins Over Years\n",
    "\n",
    "# Charting - Combine Bar Graph Total $ Won or Lost Over Years"
   ]
  },
  {
   "cell_type": "code",
   "execution_count": null,
   "id": "49e98f3e",
   "metadata": {},
   "outputs": [],
   "source": [
    "# Correlation Analysis\n",
    "\n",
    "# 1. Correlation between end of season preseason leaders vs. Making SB\n",
    "# Charting - Pie Chart? Scatter Plot?"
   ]
  },
  {
   "cell_type": "code",
   "execution_count": null,
   "id": "b0be6dc6",
   "metadata": {},
   "outputs": [],
   "source": [
    "# 2. Correlation between end of season records of preseason favorites vs SB Teams\n",
    "# Charting - Side by side - Bar Graph?"
   ]
  },
  {
   "cell_type": "code",
   "execution_count": null,
   "id": "afac7f2b",
   "metadata": {},
   "outputs": [],
   "source": [
    "# 3. Correlation between preseason wins vs regular season success  \n",
    "# Charting - Side by side - Bar Graph?"
   ]
  },
  {
   "cell_type": "code",
   "execution_count": null,
   "id": "6d0a8d96",
   "metadata": {},
   "outputs": [],
   "source": [
    "# Post Season Analysis\n",
    "# Distance Travel by Teams wins and losses\n",
    "# Charting - Heatmap?\n",
    "\n",
    "# Post Season odds"
   ]
  }
 ],
 "metadata": {
  "kernelspec": {
   "display_name": "Python 3 (ipykernel)",
   "language": "python",
   "name": "python3"
  },
  "language_info": {
   "codemirror_mode": {
    "name": "ipython",
    "version": 3
   },
   "file_extension": ".py",
   "mimetype": "text/x-python",
   "name": "python",
   "nbconvert_exporter": "python",
   "pygments_lexer": "ipython3",
   "version": "3.7.11"
  }
 },
 "nbformat": 4,
 "nbformat_minor": 5
}
