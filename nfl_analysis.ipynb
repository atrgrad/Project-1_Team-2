{
 "cells": [
  {
   "cell_type": "code",
   "execution_count": 3,
   "id": "7c83427d",
   "metadata": {},
   "outputs": [
    {
     "ename": "ModuleNotFoundError",
     "evalue": "No module named 'plotly'",
     "output_type": "error",
     "traceback": [
      "\u001b[1;31m---------------------------------------------------------------------------\u001b[0m",
      "\u001b[1;31mModuleNotFoundError\u001b[0m                       Traceback (most recent call last)",
      "\u001b[1;32m~\\AppData\\Local\\Temp/ipykernel_12812/2339567830.py\u001b[0m in \u001b[0;36m<module>\u001b[1;34m\u001b[0m\n\u001b[0;32m      4\u001b[0m \u001b[1;32mimport\u001b[0m \u001b[0mnumpy\u001b[0m \u001b[1;32mas\u001b[0m \u001b[0mnp\u001b[0m\u001b[1;33m\u001b[0m\u001b[1;33m\u001b[0m\u001b[0m\n\u001b[0;32m      5\u001b[0m \u001b[1;32mimport\u001b[0m \u001b[0mseaborn\u001b[0m \u001b[1;32mas\u001b[0m \u001b[0msns\u001b[0m\u001b[1;33m\u001b[0m\u001b[1;33m\u001b[0m\u001b[0m\n\u001b[1;32m----> 6\u001b[1;33m \u001b[1;32mimport\u001b[0m \u001b[0mplotly\u001b[0m\u001b[1;33m.\u001b[0m\u001b[0mexpress\u001b[0m \u001b[1;32mas\u001b[0m \u001b[0mpx\u001b[0m\u001b[1;33m\u001b[0m\u001b[1;33m\u001b[0m\u001b[0m\n\u001b[0m\u001b[0;32m      7\u001b[0m \u001b[1;32mimport\u001b[0m \u001b[0mpanel\u001b[0m \u001b[1;32mas\u001b[0m \u001b[0mpn\u001b[0m\u001b[1;33m\u001b[0m\u001b[1;33m\u001b[0m\u001b[0m\n\u001b[0;32m      8\u001b[0m \u001b[1;32mimport\u001b[0m \u001b[0mos\u001b[0m\u001b[1;33m\u001b[0m\u001b[1;33m\u001b[0m\u001b[0m\n",
      "\u001b[1;31mModuleNotFoundError\u001b[0m: No module named 'plotly'"
     ]
    }
   ],
   "source": [
    "# Load tools needed for project 1\n",
    "\n",
    "import pandas as pd\n",
    "import numpy as np\n",
    "import seaborn as sns\n",
    "import plotly.express as px\n",
    "import panel as pn\n",
    "import os\n",
    "from pathlib import Path\n",
    "from dotenv import load_dotenv\n",
    "%matplotlib inline  "
   ]
  },
  {
   "cell_type": "code",
   "execution_count": 4,
   "id": "362183ad",
   "metadata": {},
   "outputs": [
    {
     "ename": "NameError",
     "evalue": "name 'pn' is not defined",
     "output_type": "error",
     "traceback": [
      "\u001b[1;31m---------------------------------------------------------------------------\u001b[0m",
      "\u001b[1;31mNameError\u001b[0m                                 Traceback (most recent call last)",
      "\u001b[1;32m~\\AppData\\Local\\Temp/ipykernel_12812/1621317333.py\u001b[0m in \u001b[0;36m<module>\u001b[1;34m\u001b[0m\n\u001b[1;32m----> 1\u001b[1;33m \u001b[0mpn\u001b[0m\u001b[1;33m.\u001b[0m\u001b[0mextension\u001b[0m\u001b[1;33m(\u001b[0m\u001b[1;34m'plotly'\u001b[0m\u001b[1;33m)\u001b[0m\u001b[1;33m\u001b[0m\u001b[1;33m\u001b[0m\u001b[0m\n\u001b[0m",
      "\u001b[1;31mNameError\u001b[0m: name 'pn' is not defined"
     ]
    }
   ],
   "source": [
    "pn.extension('plotly')"
   ]
  },
  {
   "cell_type": "code",
   "execution_count": 5,
   "id": "7664a52a",
   "metadata": {},
   "outputs": [
    {
     "ename": "ModuleNotFoundError",
     "evalue": "No module named 'hvplot'",
     "output_type": "error",
     "traceback": [
      "\u001b[1;31m---------------------------------------------------------------------------\u001b[0m",
      "\u001b[1;31mModuleNotFoundError\u001b[0m                       Traceback (most recent call last)",
      "\u001b[1;32m~\\AppData\\Local\\Temp/ipykernel_12812/781540724.py\u001b[0m in \u001b[0;36m<module>\u001b[1;34m\u001b[0m\n\u001b[1;32m----> 1\u001b[1;33m \u001b[1;32mimport\u001b[0m \u001b[0mhvplot\u001b[0m\u001b[1;33m.\u001b[0m\u001b[0mpandas\u001b[0m\u001b[1;33m\u001b[0m\u001b[1;33m\u001b[0m\u001b[0m\n\u001b[0m",
      "\u001b[1;31mModuleNotFoundError\u001b[0m: No module named 'hvplot'"
     ]
    }
   ],
   "source": [
    "import hvplot.pandas"
   ]
  },
  {
   "cell_type": "code",
   "execution_count": 6,
   "id": "80b67eff",
   "metadata": {},
   "outputs": [
    {
     "ename": "NameError",
     "evalue": "name 'load_dotenv' is not defined",
     "output_type": "error",
     "traceback": [
      "\u001b[1;31m---------------------------------------------------------------------------\u001b[0m",
      "\u001b[1;31mNameError\u001b[0m                                 Traceback (most recent call last)",
      "\u001b[1;32m~\\AppData\\Local\\Temp/ipykernel_12812/1113879569.py\u001b[0m in \u001b[0;36m<module>\u001b[1;34m\u001b[0m\n\u001b[1;32m----> 1\u001b[1;33m \u001b[0mload_dotenv\u001b[0m\u001b[1;33m(\u001b[0m\u001b[1;33m)\u001b[0m\u001b[1;33m\u001b[0m\u001b[1;33m\u001b[0m\u001b[0m\n\u001b[0m\u001b[0;32m      2\u001b[0m \u001b[0mmapbox\u001b[0m \u001b[1;33m=\u001b[0m \u001b[0mos\u001b[0m\u001b[1;33m.\u001b[0m\u001b[0mgetenv\u001b[0m\u001b[1;33m(\u001b[0m\u001b[1;34m\"mapbox_api_key\"\u001b[0m\u001b[1;33m)\u001b[0m\u001b[1;33m\u001b[0m\u001b[1;33m\u001b[0m\u001b[0m\n\u001b[0;32m      3\u001b[0m \u001b[0mpx\u001b[0m\u001b[1;33m.\u001b[0m\u001b[0mset_mapbox_access_token\u001b[0m\u001b[1;33m(\u001b[0m\u001b[0mmapbox\u001b[0m\u001b[1;33m)\u001b[0m\u001b[1;33m\u001b[0m\u001b[1;33m\u001b[0m\u001b[0m\n",
      "\u001b[1;31mNameError\u001b[0m: name 'load_dotenv' is not defined"
     ]
    }
   ],
   "source": [
    "load_dotenv()\n",
    "mapbox = os.getenv(\"mapbox_api_key\")\n",
    "px.set_mapbox_access_token(mapbox)"
   ]
  },
  {
   "cell_type": "code",
   "execution_count": 7,
   "id": "3a21af1d",
   "metadata": {},
   "outputs": [],
   "source": [
    "# Set Variables"
   ]
  },
  {
   "cell_type": "code",
   "execution_count": 8,
   "id": "7f879ba9",
   "metadata": {},
   "outputs": [],
   "source": [
    "# Load Data\n"
   ]
  },
  {
   "cell_type": "code",
   "execution_count": 9,
   "id": "6ee15833",
   "metadata": {},
   "outputs": [
    {
     "data": {
      "text/html": [
       "<div>\n",
       "<style scoped>\n",
       "    .dataframe tbody tr th:only-of-type {\n",
       "        vertical-align: middle;\n",
       "    }\n",
       "\n",
       "    .dataframe tbody tr th {\n",
       "        vertical-align: top;\n",
       "    }\n",
       "\n",
       "    .dataframe thead th {\n",
       "        text-align: right;\n",
       "    }\n",
       "</style>\n",
       "<table border=\"1\" class=\"dataframe\">\n",
       "  <thead>\n",
       "    <tr style=\"text-align: right;\">\n",
       "      <th></th>\n",
       "      <th>Team</th>\n",
       "      <th>Super Bowl Odds</th>\n",
       "      <th>W/l Over-Under</th>\n",
       "      <th>Record</th>\n",
       "      <th>Year</th>\n",
       "    </tr>\n",
       "  </thead>\n",
       "  <tbody>\n",
       "    <tr>\n",
       "      <th>0</th>\n",
       "      <td>Arizona Cardinals</td>\n",
       "      <td>12000</td>\n",
       "      <td>5.5</td>\n",
       "      <td>7-9 (over)</td>\n",
       "      <td>1996</td>\n",
       "    </tr>\n",
       "    <tr>\n",
       "      <th>1</th>\n",
       "      <td>Atlanta Falcons</td>\n",
       "      <td>4000</td>\n",
       "      <td>8.0</td>\n",
       "      <td>3-13 (under)</td>\n",
       "      <td>1996</td>\n",
       "    </tr>\n",
       "    <tr>\n",
       "      <th>2</th>\n",
       "      <td>Baltimore Ravens</td>\n",
       "      <td>3000</td>\n",
       "      <td>7.5</td>\n",
       "      <td>4-12 (under)</td>\n",
       "      <td>1996</td>\n",
       "    </tr>\n",
       "    <tr>\n",
       "      <th>3</th>\n",
       "      <td>Buffalo Bills</td>\n",
       "      <td>1500</td>\n",
       "      <td>8.5</td>\n",
       "      <td>10-6 (over)</td>\n",
       "      <td>1996</td>\n",
       "    </tr>\n",
       "    <tr>\n",
       "      <th>4</th>\n",
       "      <td>Carolina Panthers</td>\n",
       "      <td>8000</td>\n",
       "      <td>5.5</td>\n",
       "      <td>12-4 (over)</td>\n",
       "      <td>1996</td>\n",
       "    </tr>\n",
       "  </tbody>\n",
       "</table>\n",
       "</div>"
      ],
      "text/plain": [
       "                Team  Super Bowl Odds  W/l Over-Under        Record  Year\n",
       "0  Arizona Cardinals            12000             5.5    7-9 (over)  1996\n",
       "1    Atlanta Falcons             4000             8.0  3-13 (under)  1996\n",
       "2   Baltimore Ravens             3000             7.5  4-12 (under)  1996\n",
       "3      Buffalo Bills             1500             8.5   10-6 (over)  1996\n",
       "4  Carolina Panthers             8000             5.5   12-4 (over)  1996"
      ]
     },
     "execution_count": 9,
     "metadata": {},
     "output_type": "execute_result"
    }
   ],
   "source": [
    "# Import Data\n",
    "\n",
    "nfl_data = pd.DataFrame([])\n",
    "years_start = 1996\n",
    "years_end = 2022\n",
    "for year in range(years_start,years_end):\n",
    "        url = f'https://www.pro-football-reference.com/years/{year}/preseason_odds.htm'\n",
    "        df = pd.read_html(url)[0]\n",
    "        df['year'] = year\n",
    "        nfl_data = nfl_data.append(df, ignore_index=True, sort=False)\n",
    "        \n",
    "nfl_data.columns = ['Team', 'Super Bowl Odds', 'W/l Over-Under', 'Record', 'Year']\n",
    "\n",
    "nfl_data.head()\n",
    "\n"
   ]
  },
  {
   "cell_type": "code",
   "execution_count": 70,
   "id": "db66e98c",
   "metadata": {},
   "outputs": [
    {
     "data": {
      "text/html": [
       "<div>\n",
       "<style scoped>\n",
       "    .dataframe tbody tr th:only-of-type {\n",
       "        vertical-align: middle;\n",
       "    }\n",
       "\n",
       "    .dataframe tbody tr th {\n",
       "        vertical-align: top;\n",
       "    }\n",
       "\n",
       "    .dataframe thead th {\n",
       "        text-align: right;\n",
       "    }\n",
       "</style>\n",
       "<table border=\"1\" class=\"dataframe\">\n",
       "  <thead>\n",
       "    <tr style=\"text-align: right;\">\n",
       "      <th></th>\n",
       "      <th>Date</th>\n",
       "      <th>Year</th>\n",
       "      <th>SB</th>\n",
       "      <th>Winner</th>\n",
       "      <th>Winner Pts</th>\n",
       "      <th>Loser</th>\n",
       "      <th>Loser Pts</th>\n",
       "      <th>MVP</th>\n",
       "      <th>Stadium</th>\n",
       "      <th>City</th>\n",
       "      <th>State</th>\n",
       "      <th>Season Year</th>\n",
       "    </tr>\n",
       "  </thead>\n",
       "  <tbody>\n",
       "    <tr>\n",
       "      <th>0</th>\n",
       "      <td>Feb 7</td>\n",
       "      <td>2021</td>\n",
       "      <td>LV (55)</td>\n",
       "      <td>Tampa Bay Buccaneers</td>\n",
       "      <td>31</td>\n",
       "      <td>Kansas City Chiefs</td>\n",
       "      <td>9</td>\n",
       "      <td>Tom Brady</td>\n",
       "      <td>Raymond James Stadium</td>\n",
       "      <td>Tampa</td>\n",
       "      <td>Florida</td>\n",
       "      <td>2020</td>\n",
       "    </tr>\n",
       "    <tr>\n",
       "      <th>1</th>\n",
       "      <td>Feb 2</td>\n",
       "      <td>2020</td>\n",
       "      <td>LIV (54)</td>\n",
       "      <td>Kansas City Chiefs</td>\n",
       "      <td>31</td>\n",
       "      <td>San Francisco 49ers</td>\n",
       "      <td>20</td>\n",
       "      <td>Patrick Mahomes</td>\n",
       "      <td>Hard Rock Stadium</td>\n",
       "      <td>Miami Gardens</td>\n",
       "      <td>Florida</td>\n",
       "      <td>2019</td>\n",
       "    </tr>\n",
       "    <tr>\n",
       "      <th>2</th>\n",
       "      <td>Feb 3</td>\n",
       "      <td>2019</td>\n",
       "      <td>LIII (53)</td>\n",
       "      <td>New England Patriots</td>\n",
       "      <td>13</td>\n",
       "      <td>Los Angeles Rams</td>\n",
       "      <td>3</td>\n",
       "      <td>Julian Edelman</td>\n",
       "      <td>Mercedes-Benz Stadium</td>\n",
       "      <td>Atlanta</td>\n",
       "      <td>Georgia</td>\n",
       "      <td>2018</td>\n",
       "    </tr>\n",
       "    <tr>\n",
       "      <th>3</th>\n",
       "      <td>Feb 4</td>\n",
       "      <td>2018</td>\n",
       "      <td>LII (52)</td>\n",
       "      <td>Philadelphia Eagles</td>\n",
       "      <td>41</td>\n",
       "      <td>New England Patriots</td>\n",
       "      <td>33</td>\n",
       "      <td>Nick Foles</td>\n",
       "      <td>U.S. Bank Stadium</td>\n",
       "      <td>Minneapolis</td>\n",
       "      <td>Minnesota</td>\n",
       "      <td>2017</td>\n",
       "    </tr>\n",
       "    <tr>\n",
       "      <th>4</th>\n",
       "      <td>Feb 5</td>\n",
       "      <td>2017</td>\n",
       "      <td>LI (51)</td>\n",
       "      <td>New England Patriots</td>\n",
       "      <td>34</td>\n",
       "      <td>Atlanta Falcons</td>\n",
       "      <td>28</td>\n",
       "      <td>Tom Brady</td>\n",
       "      <td>NRG Stadium</td>\n",
       "      <td>Houston</td>\n",
       "      <td>Texas</td>\n",
       "      <td>2016</td>\n",
       "    </tr>\n",
       "  </tbody>\n",
       "</table>\n",
       "</div>"
      ],
      "text/plain": [
       "    Date  Year         SB                Winner  Winner Pts  \\\n",
       "0  Feb 7  2021    LV (55)  Tampa Bay Buccaneers          31   \n",
       "1  Feb 2  2020   LIV (54)    Kansas City Chiefs          31   \n",
       "2  Feb 3  2019  LIII (53)  New England Patriots          13   \n",
       "3  Feb 4  2018   LII (52)   Philadelphia Eagles          41   \n",
       "4  Feb 5  2017    LI (51)  New England Patriots          34   \n",
       "\n",
       "                  Loser  Loser Pts              MVP                Stadium  \\\n",
       "0    Kansas City Chiefs          9        Tom Brady  Raymond James Stadium   \n",
       "1   San Francisco 49ers         20  Patrick Mahomes      Hard Rock Stadium   \n",
       "2      Los Angeles Rams          3   Julian Edelman  Mercedes-Benz Stadium   \n",
       "3  New England Patriots         33       Nick Foles      U.S. Bank Stadium   \n",
       "4       Atlanta Falcons         28        Tom Brady            NRG Stadium   \n",
       "\n",
       "            City      State  Season Year  \n",
       "0          Tampa    Florida         2020  \n",
       "1  Miami Gardens    Florida         2019  \n",
       "2        Atlanta    Georgia         2018  \n",
       "3    Minneapolis  Minnesota         2017  \n",
       "4        Houston      Texas         2016  "
      ]
     },
     "execution_count": 70,
     "metadata": {},
     "output_type": "execute_result"
    }
   ],
   "source": [
    "superbowl = pd.read_csv(\n",
    "    \"superbowl_data.csv\")\n",
    "superbowl['Season Year'] = superbowl['Year'] - 1\n",
    "#superbowl.iloc[:,0] = superbowl.iloc[:,0].shift(1)\n",
    "superbowl.head()"
   ]
  },
  {
   "cell_type": "code",
   "execution_count": 77,
   "id": "08480cf9",
   "metadata": {},
   "outputs": [
    {
     "data": {
      "text/plain": [
       "'Kansas City Chiefs'"
      ]
     },
     "execution_count": 77,
     "metadata": {},
     "output_type": "execute_result"
    }
   ],
   "source": [
    "\n"
   ]
  },
  {
   "cell_type": "code",
   "execution_count": 13,
   "id": "32b2fe0e",
   "metadata": {},
   "outputs": [
    {
     "data": {
      "text/html": [
       "<div>\n",
       "<style scoped>\n",
       "    .dataframe tbody tr th:only-of-type {\n",
       "        vertical-align: middle;\n",
       "    }\n",
       "\n",
       "    .dataframe tbody tr th {\n",
       "        vertical-align: top;\n",
       "    }\n",
       "\n",
       "    .dataframe thead th {\n",
       "        text-align: right;\n",
       "    }\n",
       "</style>\n",
       "<table border=\"1\" class=\"dataframe\">\n",
       "  <thead>\n",
       "    <tr style=\"text-align: right;\">\n",
       "      <th></th>\n",
       "      <th>Team</th>\n",
       "      <th>Super Bowl Odds</th>\n",
       "      <th>W/l Over-Under</th>\n",
       "      <th>Record</th>\n",
       "    </tr>\n",
       "    <tr>\n",
       "      <th>Year</th>\n",
       "      <th></th>\n",
       "      <th></th>\n",
       "      <th></th>\n",
       "      <th></th>\n",
       "    </tr>\n",
       "  </thead>\n",
       "  <tbody>\n",
       "    <tr>\n",
       "      <th>1996</th>\n",
       "      <td>San Francisco 49ers</td>\n",
       "      <td>250</td>\n",
       "      <td>12.0</td>\n",
       "      <td>12-4 (push)</td>\n",
       "    </tr>\n",
       "    <tr>\n",
       "      <th>1996</th>\n",
       "      <td>Dallas Cowboys</td>\n",
       "      <td>600</td>\n",
       "      <td>10.5</td>\n",
       "      <td>10-6 (under)</td>\n",
       "    </tr>\n",
       "    <tr>\n",
       "      <th>1996</th>\n",
       "      <td>Green Bay Packers</td>\n",
       "      <td>800</td>\n",
       "      <td>10.0</td>\n",
       "      <td>13-3 (over)</td>\n",
       "    </tr>\n",
       "    <tr>\n",
       "      <th>1996</th>\n",
       "      <td>Pittsburgh Steelers</td>\n",
       "      <td>1000</td>\n",
       "      <td>10.0</td>\n",
       "      <td>10-6 (push)</td>\n",
       "    </tr>\n",
       "    <tr>\n",
       "      <th>1996</th>\n",
       "      <td>Kansas City Chiefs</td>\n",
       "      <td>1200</td>\n",
       "      <td>9.0</td>\n",
       "      <td>9-7 (push)</td>\n",
       "    </tr>\n",
       "    <tr>\n",
       "      <th>...</th>\n",
       "      <td>...</td>\n",
       "      <td>...</td>\n",
       "      <td>...</td>\n",
       "      <td>...</td>\n",
       "    </tr>\n",
       "    <tr>\n",
       "      <th>2021</th>\n",
       "      <td>Jacksonville Jaguars</td>\n",
       "      <td>12500</td>\n",
       "      <td>6.5</td>\n",
       "      <td>3-14</td>\n",
       "    </tr>\n",
       "    <tr>\n",
       "      <th>2021</th>\n",
       "      <td>Cincinnati Bengals</td>\n",
       "      <td>15000</td>\n",
       "      <td>6.5</td>\n",
       "      <td>10-7</td>\n",
       "    </tr>\n",
       "    <tr>\n",
       "      <th>2021</th>\n",
       "      <td>New York Jets</td>\n",
       "      <td>15000</td>\n",
       "      <td>6.0</td>\n",
       "      <td>4-13</td>\n",
       "    </tr>\n",
       "    <tr>\n",
       "      <th>2021</th>\n",
       "      <td>Detroit Lions</td>\n",
       "      <td>25000</td>\n",
       "      <td>4.5</td>\n",
       "      <td>3-13-1</td>\n",
       "    </tr>\n",
       "    <tr>\n",
       "      <th>2021</th>\n",
       "      <td>Houston Texans</td>\n",
       "      <td>30000</td>\n",
       "      <td>4.0</td>\n",
       "      <td>4-13</td>\n",
       "    </tr>\n",
       "  </tbody>\n",
       "</table>\n",
       "<p>823 rows × 4 columns</p>\n",
       "</div>"
      ],
      "text/plain": [
       "                      Team  Super Bowl Odds  W/l Over-Under        Record\n",
       "Year                                                                     \n",
       "1996   San Francisco 49ers              250            12.0   12-4 (push)\n",
       "1996        Dallas Cowboys              600            10.5  10-6 (under)\n",
       "1996     Green Bay Packers              800            10.0   13-3 (over)\n",
       "1996   Pittsburgh Steelers             1000            10.0   10-6 (push)\n",
       "1996    Kansas City Chiefs             1200             9.0    9-7 (push)\n",
       "...                    ...              ...             ...           ...\n",
       "2021  Jacksonville Jaguars            12500             6.5          3-14\n",
       "2021    Cincinnati Bengals            15000             6.5          10-7\n",
       "2021         New York Jets            15000             6.0          4-13\n",
       "2021         Detroit Lions            25000             4.5        3-13-1\n",
       "2021        Houston Texans            30000             4.0          4-13\n",
       "\n",
       "[823 rows x 4 columns]"
      ]
     },
     "execution_count": 13,
     "metadata": {},
     "output_type": "execute_result"
    }
   ],
   "source": [
    "nfl_data.sort_values(['Year','Super Bowl Odds'], ascending=True, inplace=True)\n",
    "nfl_data.set_index('Year')\n"
   ]
  },
  {
   "cell_type": "code",
   "execution_count": null,
   "id": "4d2ddabd",
   "metadata": {},
   "outputs": [],
   "source": []
  },
  {
   "cell_type": "code",
   "execution_count": 92,
   "id": "e71f45e2",
   "metadata": {},
   "outputs": [],
   "source": [
    "# Strategy 1 - $100 on favorite\n",
    "\n",
    "# Strategy 2 - $100 on Top 3\n",
    "def top3(x):\n",
    "    dftop3 = nfl_data[nfl_data['Year'] == x]\n",
    "    return dftop3.head(3)\n",
    "\n",
    "# Strategy 3 - $100 on Top 5def top5(x):\n",
    "def top5(x):\n",
    "    dftop5 = nfl_data[nfl_data['Year'] == x]\n",
    "    return dftop5.head(5)"
   ]
  },
  {
   "cell_type": "code",
   "execution_count": 138,
   "id": "a5cae763",
   "metadata": {},
   "outputs": [
    {
     "data": {
      "text/html": [
       "<div>\n",
       "<style scoped>\n",
       "    .dataframe tbody tr th:only-of-type {\n",
       "        vertical-align: middle;\n",
       "    }\n",
       "\n",
       "    .dataframe tbody tr th {\n",
       "        vertical-align: top;\n",
       "    }\n",
       "\n",
       "    .dataframe thead th {\n",
       "        text-align: right;\n",
       "    }\n",
       "</style>\n",
       "<table border=\"1\" class=\"dataframe\">\n",
       "  <thead>\n",
       "    <tr style=\"text-align: right;\">\n",
       "      <th></th>\n",
       "      <th>Team</th>\n",
       "      <th>Super Bowl Odds</th>\n",
       "      <th>W/l Over-Under</th>\n",
       "      <th>Record</th>\n",
       "      <th>Year</th>\n",
       "    </tr>\n",
       "  </thead>\n",
       "  <tbody>\n",
       "    <tr>\n",
       "      <th>774</th>\n",
       "      <td>Kansas City Chiefs</td>\n",
       "      <td>450</td>\n",
       "      <td>11.5</td>\n",
       "      <td>14-2 (over)</td>\n",
       "      <td>2020</td>\n",
       "    </tr>\n",
       "    <tr>\n",
       "      <th>761</th>\n",
       "      <td>Baltimore Ravens</td>\n",
       "      <td>500</td>\n",
       "      <td>11.5</td>\n",
       "      <td>11-5 (under)</td>\n",
       "      <td>2020</td>\n",
       "    </tr>\n",
       "    <tr>\n",
       "      <th>781</th>\n",
       "      <td>New Orleans Saints</td>\n",
       "      <td>1000</td>\n",
       "      <td>10.5</td>\n",
       "      <td>12-4 (over)</td>\n",
       "      <td>2020</td>\n",
       "    </tr>\n",
       "    <tr>\n",
       "      <th>786</th>\n",
       "      <td>San Francisco 49ers</td>\n",
       "      <td>1000</td>\n",
       "      <td>10.5</td>\n",
       "      <td>6-10 (under)</td>\n",
       "      <td>2020</td>\n",
       "    </tr>\n",
       "    <tr>\n",
       "      <th>788</th>\n",
       "      <td>Tampa Bay Buccaneers</td>\n",
       "      <td>1000</td>\n",
       "      <td>9.5</td>\n",
       "      <td>11-5 (over)</td>\n",
       "      <td>2020</td>\n",
       "    </tr>\n",
       "  </tbody>\n",
       "</table>\n",
       "</div>"
      ],
      "text/plain": [
       "                     Team  Super Bowl Odds  W/l Over-Under        Record  Year\n",
       "774    Kansas City Chiefs              450            11.5   14-2 (over)  2020\n",
       "761      Baltimore Ravens              500            11.5  11-5 (under)  2020\n",
       "781    New Orleans Saints             1000            10.5   12-4 (over)  2020\n",
       "786   San Francisco 49ers             1000            10.5  6-10 (under)  2020\n",
       "788  Tampa Bay Buccaneers             1000             9.5   11-5 (over)  2020"
      ]
     },
     "execution_count": 138,
     "metadata": {},
     "output_type": "execute_result"
    }
   ],
   "source": [
    "top5(2020)"
   ]
  },
  {
   "cell_type": "code",
   "execution_count": 121,
   "id": "144320dd",
   "metadata": {},
   "outputs": [
    {
     "data": {
      "text/plain": [
       "False"
      ]
     },
     "execution_count": 121,
     "metadata": {},
     "output_type": "execute_result"
    }
   ],
   "source": [
    "def xy(yr):\n",
    "    superbowl_winners = superbowl[superbowl['Year'] == yr]\n",
    "    for team in top5(yr)['Team']:\n",
    "        if team ==  superbowl_winners['Winner'].item():\n",
    "            return team\n",
    "        else:\n",
    "            return False\n",
    "xy(2018)"
   ]
  },
  {
   "cell_type": "code",
   "execution_count": 125,
   "id": "f1ff8c0e",
   "metadata": {},
   "outputs": [
    {
     "data": {
      "text/plain": [
       "400"
      ]
     },
     "execution_count": 125,
     "metadata": {},
     "output_type": "execute_result"
    }
   ],
   "source": [
    "def odds(yr):\n",
    "    superbowl_odds = top5(yr)[top5(yr)['Team'] == xy(yr)]\n",
    "    return superbowl_odds['Super Bowl Odds'].item()\n",
    "odds(2019)"
   ]
  },
  {
   "cell_type": "code",
   "execution_count": 144,
   "id": "3b60a351",
   "metadata": {},
   "outputs": [
    {
     "data": {
      "text/plain": [
       "450"
      ]
     },
     "execution_count": 144,
     "metadata": {},
     "output_type": "execute_result"
    }
   ],
   "source": [
    "def main(yr):\n",
    "    if xy(yr) != False:\n",
    "        return odds(yr)\n",
    "    else:\n",
    "        print(\"lose\")\n",
    "main(2020)"
   ]
  },
  {
   "cell_type": "code",
   "execution_count": 16,
   "id": "176286e1",
   "metadata": {},
   "outputs": [
    {
     "data": {
      "text/html": [
       "<div>\n",
       "<style scoped>\n",
       "    .dataframe tbody tr th:only-of-type {\n",
       "        vertical-align: middle;\n",
       "    }\n",
       "\n",
       "    .dataframe tbody tr th {\n",
       "        vertical-align: top;\n",
       "    }\n",
       "\n",
       "    .dataframe thead th {\n",
       "        text-align: right;\n",
       "    }\n",
       "</style>\n",
       "<table border=\"1\" class=\"dataframe\">\n",
       "  <thead>\n",
       "    <tr style=\"text-align: right;\">\n",
       "      <th></th>\n",
       "      <th>Team</th>\n",
       "      <th>Super Bowl Odds</th>\n",
       "      <th>W/l Over-Under</th>\n",
       "      <th>Record</th>\n",
       "      <th>Year</th>\n",
       "    </tr>\n",
       "  </thead>\n",
       "  <tbody>\n",
       "    <tr>\n",
       "      <th>806</th>\n",
       "      <td>Kansas City Chiefs</td>\n",
       "      <td>450</td>\n",
       "      <td>12.5</td>\n",
       "      <td>12-5</td>\n",
       "      <td>2021</td>\n",
       "    </tr>\n",
       "    <tr>\n",
       "      <th>820</th>\n",
       "      <td>Tampa Bay Buccaneers</td>\n",
       "      <td>700</td>\n",
       "      <td>12.0</td>\n",
       "      <td>13-4</td>\n",
       "      <td>2021</td>\n",
       "    </tr>\n",
       "    <tr>\n",
       "      <th>794</th>\n",
       "      <td>Buffalo Bills</td>\n",
       "      <td>1100</td>\n",
       "      <td>11.5</td>\n",
       "      <td>11-6</td>\n",
       "      <td>2021</td>\n",
       "    </tr>\n",
       "    <tr>\n",
       "      <th>809</th>\n",
       "      <td>Los Angeles Rams</td>\n",
       "      <td>1200</td>\n",
       "      <td>10.5</td>\n",
       "      <td>12-5</td>\n",
       "      <td>2021</td>\n",
       "    </tr>\n",
       "    <tr>\n",
       "      <th>793</th>\n",
       "      <td>Baltimore Ravens</td>\n",
       "      <td>1400</td>\n",
       "      <td>10.5</td>\n",
       "      <td>8-9</td>\n",
       "      <td>2021</td>\n",
       "    </tr>\n",
       "  </tbody>\n",
       "</table>\n",
       "</div>"
      ],
      "text/plain": [
       "                     Team  Super Bowl Odds  W/l Over-Under Record  Year\n",
       "806    Kansas City Chiefs              450            12.5   12-5  2021\n",
       "820  Tampa Bay Buccaneers              700            12.0   13-4  2021\n",
       "794         Buffalo Bills             1100            11.5   11-6  2021\n",
       "809      Los Angeles Rams             1200            10.5   12-5  2021\n",
       "793      Baltimore Ravens             1400            10.5    8-9  2021"
      ]
     },
     "execution_count": 16,
     "metadata": {},
     "output_type": "execute_result"
    }
   ],
   "source": [
    "top5(2021)"
   ]
  },
  {
   "cell_type": "code",
   "execution_count": 29,
   "id": "8968e053",
   "metadata": {},
   "outputs": [],
   "source": [
    "# Charting - Individual Bar Graph Strat 1, 2, & 3\n",
    "\n",
    "# Charting - Combined Bar Graph Total Wins Over Years\n",
    "\n",
    "# Charting - Combine Bar Graph Total $ Won or Lost Over Years"
   ]
  },
  {
   "cell_type": "code",
   "execution_count": null,
   "id": "6e8883c2",
   "metadata": {},
   "outputs": [],
   "source": [
    "# Correlation Analysis\n",
    "\n",
    "# 1. Correlation between end of season preseason leaders vs. Making SB\n",
    "# Charting - Pie Chart? Scatter Plot?"
   ]
  },
  {
   "cell_type": "code",
   "execution_count": null,
   "id": "c320649e",
   "metadata": {},
   "outputs": [],
   "source": [
    "# 2. Correlation between end of season records of preseason favorites vs SB Teams\n",
    "# Charting - Side by side - Bar Graph?"
   ]
  },
  {
   "cell_type": "code",
   "execution_count": null,
   "id": "7e19d40a",
   "metadata": {},
   "outputs": [],
   "source": [
    "# 3. Correlation between preseason wins vs regular season success  \n",
    "# Charting - Side by side - Bar Graph?"
   ]
  },
  {
   "cell_type": "code",
   "execution_count": null,
   "id": "b210ea27",
   "metadata": {},
   "outputs": [],
   "source": [
    "# Post Season Analysis\n",
    "# Distance Travel by Teams wins and losses\n",
    "# Charting - Heatmap?\n",
    "\n",
    "# Post Season odds"
   ]
  }
 ],
 "metadata": {
  "kernelspec": {
   "display_name": "Python 3 (ipykernel)",
   "language": "python",
   "name": "python3"
  },
  "language_info": {
   "codemirror_mode": {
    "name": "ipython",
    "version": 3
   },
   "file_extension": ".py",
   "mimetype": "text/x-python",
   "name": "python",
   "nbconvert_exporter": "python",
   "pygments_lexer": "ipython3",
   "version": "3.8.8"
  }
 },
 "nbformat": 4,
 "nbformat_minor": 5
}
